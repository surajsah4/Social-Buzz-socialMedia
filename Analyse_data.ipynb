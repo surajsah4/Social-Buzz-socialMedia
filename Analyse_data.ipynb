{
 "cells": [
  {
   "cell_type": "code",
   "execution_count": 1,
   "id": "e4a1bb45-6e71-42cf-b621-489fe49c5a45",
   "metadata": {},
   "outputs": [],
   "source": [
    "import pandas as pd"
   ]
  },
  {
   "cell_type": "code",
   "execution_count": 2,
   "id": "a511217a-649f-414c-b662-b132047067b8",
   "metadata": {},
   "outputs": [],
   "source": [
    "dataset1 = pd.read_csv(\"final.csv\")"
   ]
  },
  {
   "cell_type": "code",
   "execution_count": 5,
   "id": "fffc4a1b-867d-4f3f-a20f-49a55adccb77",
   "metadata": {},
   "outputs": [],
   "source": [
    "ds1_copy = dataset1.copy()"
   ]
  },
  {
   "cell_type": "code",
   "execution_count": 6,
   "id": "ba664e74-2cd6-43fd-aaa8-791b55ea8102",
   "metadata": {},
   "outputs": [
    {
     "data": {
      "text/html": [
       "<div>\n",
       "<style scoped>\n",
       "    .dataframe tbody tr th:only-of-type {\n",
       "        vertical-align: middle;\n",
       "    }\n",
       "\n",
       "    .dataframe tbody tr th {\n",
       "        vertical-align: top;\n",
       "    }\n",
       "\n",
       "    .dataframe thead th {\n",
       "        text-align: right;\n",
       "    }\n",
       "</style>\n",
       "<table border=\"1\" class=\"dataframe\">\n",
       "  <thead>\n",
       "    <tr style=\"text-align: right;\">\n",
       "      <th></th>\n",
       "      <th>Unnamed: 0.1</th>\n",
       "      <th>Unnamed: 0</th>\n",
       "      <th>Content ID</th>\n",
       "      <th>Type</th>\n",
       "      <th>Category</th>\n",
       "      <th>Reaction Type</th>\n",
       "      <th>Datetime</th>\n",
       "      <th>Sentimant</th>\n",
       "      <th>Score</th>\n",
       "    </tr>\n",
       "  </thead>\n",
       "  <tbody>\n",
       "    <tr>\n",
       "      <th>0</th>\n",
       "      <td>0</td>\n",
       "      <td>0</td>\n",
       "      <td>97522e57-d9ab-4bd6-97bf-c24d952602d2</td>\n",
       "      <td>photo</td>\n",
       "      <td>studying</td>\n",
       "      <td>disgust</td>\n",
       "      <td>2020-11-07 09:43:50</td>\n",
       "      <td>negative</td>\n",
       "      <td>0</td>\n",
       "    </tr>\n",
       "    <tr>\n",
       "      <th>1</th>\n",
       "      <td>1</td>\n",
       "      <td>0</td>\n",
       "      <td>97522e57-d9ab-4bd6-97bf-c24d952602d2</td>\n",
       "      <td>photo</td>\n",
       "      <td>studying</td>\n",
       "      <td>disgust</td>\n",
       "      <td>2021-01-06 19:13:01</td>\n",
       "      <td>negative</td>\n",
       "      <td>0</td>\n",
       "    </tr>\n",
       "    <tr>\n",
       "      <th>2</th>\n",
       "      <td>2</td>\n",
       "      <td>0</td>\n",
       "      <td>97522e57-d9ab-4bd6-97bf-c24d952602d2</td>\n",
       "      <td>photo</td>\n",
       "      <td>studying</td>\n",
       "      <td>disgust</td>\n",
       "      <td>2021-04-09 02:46:20</td>\n",
       "      <td>negative</td>\n",
       "      <td>0</td>\n",
       "    </tr>\n",
       "    <tr>\n",
       "      <th>3</th>\n",
       "      <td>3</td>\n",
       "      <td>1</td>\n",
       "      <td>9f737e0a-3cdd-4d29-9d24-753f4e3be810</td>\n",
       "      <td>photo</td>\n",
       "      <td>healthy eating</td>\n",
       "      <td>disgust</td>\n",
       "      <td>2021-03-28 21:15:26</td>\n",
       "      <td>negative</td>\n",
       "      <td>0</td>\n",
       "    </tr>\n",
       "    <tr>\n",
       "      <th>4</th>\n",
       "      <td>4</td>\n",
       "      <td>2</td>\n",
       "      <td>230c4e4d-70c3-461d-b42c-ec09396efb3f</td>\n",
       "      <td>photo</td>\n",
       "      <td>healthy eating</td>\n",
       "      <td>disgust</td>\n",
       "      <td>2020-08-04 05:40:33</td>\n",
       "      <td>negative</td>\n",
       "      <td>0</td>\n",
       "    </tr>\n",
       "    <tr>\n",
       "      <th>...</th>\n",
       "      <td>...</td>\n",
       "      <td>...</td>\n",
       "      <td>...</td>\n",
       "      <td>...</td>\n",
       "      <td>...</td>\n",
       "      <td>...</td>\n",
       "      <td>...</td>\n",
       "      <td>...</td>\n",
       "      <td>...</td>\n",
       "    </tr>\n",
       "    <tr>\n",
       "      <th>24568</th>\n",
       "      <td>24568</td>\n",
       "      <td>997</td>\n",
       "      <td>435007a5-6261-4d8b-b0a4-55fdc189754b</td>\n",
       "      <td>audio</td>\n",
       "      <td>veganism</td>\n",
       "      <td>adore</td>\n",
       "      <td>2020-10-04 22:26:33</td>\n",
       "      <td>positive</td>\n",
       "      <td>72</td>\n",
       "    </tr>\n",
       "    <tr>\n",
       "      <th>24569</th>\n",
       "      <td>24569</td>\n",
       "      <td>997</td>\n",
       "      <td>435007a5-6261-4d8b-b0a4-55fdc189754b</td>\n",
       "      <td>audio</td>\n",
       "      <td>veganism</td>\n",
       "      <td>adore</td>\n",
       "      <td>2020-09-18 10:50:50</td>\n",
       "      <td>positive</td>\n",
       "      <td>72</td>\n",
       "    </tr>\n",
       "    <tr>\n",
       "      <th>24570</th>\n",
       "      <td>24570</td>\n",
       "      <td>998</td>\n",
       "      <td>4e4c9690-c013-4ee7-9e66-943d8cbd27b7</td>\n",
       "      <td>GIF</td>\n",
       "      <td>culture</td>\n",
       "      <td>adore</td>\n",
       "      <td>2020-10-31 03:58:44</td>\n",
       "      <td>positive</td>\n",
       "      <td>72</td>\n",
       "    </tr>\n",
       "    <tr>\n",
       "      <th>24571</th>\n",
       "      <td>24571</td>\n",
       "      <td>998</td>\n",
       "      <td>4e4c9690-c013-4ee7-9e66-943d8cbd27b7</td>\n",
       "      <td>GIF</td>\n",
       "      <td>culture</td>\n",
       "      <td>adore</td>\n",
       "      <td>2020-06-25 15:12:29</td>\n",
       "      <td>positive</td>\n",
       "      <td>72</td>\n",
       "    </tr>\n",
       "    <tr>\n",
       "      <th>24572</th>\n",
       "      <td>24572</td>\n",
       "      <td>998</td>\n",
       "      <td>4e4c9690-c013-4ee7-9e66-943d8cbd27b7</td>\n",
       "      <td>GIF</td>\n",
       "      <td>culture</td>\n",
       "      <td>adore</td>\n",
       "      <td>2020-12-17 16:32:57</td>\n",
       "      <td>positive</td>\n",
       "      <td>72</td>\n",
       "    </tr>\n",
       "  </tbody>\n",
       "</table>\n",
       "<p>24573 rows × 9 columns</p>\n",
       "</div>"
      ],
      "text/plain": [
       "       Unnamed: 0.1  Unnamed: 0                            Content ID   Type  \\\n",
       "0                 0           0  97522e57-d9ab-4bd6-97bf-c24d952602d2  photo   \n",
       "1                 1           0  97522e57-d9ab-4bd6-97bf-c24d952602d2  photo   \n",
       "2                 2           0  97522e57-d9ab-4bd6-97bf-c24d952602d2  photo   \n",
       "3                 3           1  9f737e0a-3cdd-4d29-9d24-753f4e3be810  photo   \n",
       "4                 4           2  230c4e4d-70c3-461d-b42c-ec09396efb3f  photo   \n",
       "...             ...         ...                                   ...    ...   \n",
       "24568         24568         997  435007a5-6261-4d8b-b0a4-55fdc189754b  audio   \n",
       "24569         24569         997  435007a5-6261-4d8b-b0a4-55fdc189754b  audio   \n",
       "24570         24570         998  4e4c9690-c013-4ee7-9e66-943d8cbd27b7    GIF   \n",
       "24571         24571         998  4e4c9690-c013-4ee7-9e66-943d8cbd27b7    GIF   \n",
       "24572         24572         998  4e4c9690-c013-4ee7-9e66-943d8cbd27b7    GIF   \n",
       "\n",
       "             Category Reaction Type             Datetime Sentimant  Score  \n",
       "0            studying       disgust  2020-11-07 09:43:50  negative      0  \n",
       "1            studying       disgust  2021-01-06 19:13:01  negative      0  \n",
       "2            studying       disgust  2021-04-09 02:46:20  negative      0  \n",
       "3      healthy eating       disgust  2021-03-28 21:15:26  negative      0  \n",
       "4      healthy eating       disgust  2020-08-04 05:40:33  negative      0  \n",
       "...               ...           ...                  ...       ...    ...  \n",
       "24568        veganism         adore  2020-10-04 22:26:33  positive     72  \n",
       "24569        veganism         adore  2020-09-18 10:50:50  positive     72  \n",
       "24570         culture         adore  2020-10-31 03:58:44  positive     72  \n",
       "24571         culture         adore  2020-06-25 15:12:29  positive     72  \n",
       "24572         culture         adore  2020-12-17 16:32:57  positive     72  \n",
       "\n",
       "[24573 rows x 9 columns]"
      ]
     },
     "execution_count": 6,
     "metadata": {},
     "output_type": "execute_result"
    }
   ],
   "source": [
    "ds1_copy"
   ]
  },
  {
   "cell_type": "code",
   "execution_count": 8,
   "id": "e342c32a-5377-488b-99ba-b7cb3ad7f890",
   "metadata": {},
   "outputs": [
    {
     "name": "stdout",
     "output_type": "stream",
     "text": [
      "<class 'pandas.core.frame.DataFrame'>\n",
      "RangeIndex: 24573 entries, 0 to 24572\n",
      "Data columns (total 9 columns):\n",
      " #   Column         Non-Null Count  Dtype \n",
      "---  ------         --------------  ----- \n",
      " 0   Unnamed: 0.1   24573 non-null  int64 \n",
      " 1   Unnamed: 0     24573 non-null  int64 \n",
      " 2   Content ID     24573 non-null  object\n",
      " 3   Type           24573 non-null  object\n",
      " 4   Category       24573 non-null  object\n",
      " 5   Reaction Type  24573 non-null  object\n",
      " 6   Datetime       24573 non-null  object\n",
      " 7   Sentimant      24573 non-null  object\n",
      " 8   Score          24573 non-null  int64 \n",
      "dtypes: int64(3), object(6)\n",
      "memory usage: 1.7+ MB\n"
     ]
    }
   ],
   "source": [
    "ds1_copy.info()"
   ]
  },
  {
   "cell_type": "code",
   "execution_count": 10,
   "id": "6362c3a9-e559-4f9c-aa56-afd20b3db322",
   "metadata": {},
   "outputs": [
    {
     "data": {
      "text/plain": [
       "Unnamed: 0.1     0\n",
       "Unnamed: 0       0\n",
       "Content ID       0\n",
       "Type             0\n",
       "Category         0\n",
       "Reaction Type    0\n",
       "Datetime         0\n",
       "Sentimant        0\n",
       "Score            0\n",
       "dtype: int64"
      ]
     },
     "execution_count": 10,
     "metadata": {},
     "output_type": "execute_result"
    }
   ],
   "source": [
    "ds1_copy.isnull().sum()"
   ]
  },
  {
   "cell_type": "code",
   "execution_count": 13,
   "id": "4f058ae1-58f0-4e92-b533-4a5af94837bb",
   "metadata": {},
   "outputs": [
    {
     "data": {
      "text/plain": [
       "array(['photo', 'video', 'GIF', 'audio'], dtype=object)"
      ]
     },
     "execution_count": 13,
     "metadata": {},
     "output_type": "execute_result"
    }
   ],
   "source": [
    "ds1_copy[\"Type\"].unique()"
   ]
  },
  {
   "cell_type": "code",
   "execution_count": 14,
   "id": "cbc9af95-8ccc-4cb7-81ad-d9143932c978",
   "metadata": {},
   "outputs": [
    {
     "data": {
      "text/plain": [
       "array(['studying', 'healthy eating', 'dogs', 'public speaking', 'science',\n",
       "       'tennis', 'food', 'fitness', 'soccer', 'education', 'travel',\n",
       "       'veganism', 'cooking', 'technology', 'animals', 'culture'],\n",
       "      dtype=object)"
      ]
     },
     "execution_count": 14,
     "metadata": {},
     "output_type": "execute_result"
    }
   ],
   "source": [
    "ds1_copy[\"Category\"].unique()"
   ]
  },
  {
   "cell_type": "code",
   "execution_count": 15,
   "id": "a97448d4-9ca1-4501-aed1-cecf45e9cbe9",
   "metadata": {},
   "outputs": [
    {
     "data": {
      "text/plain": [
       "array(['disgust', 'dislike', 'scared', 'interested', 'peeking', 'cherish',\n",
       "       'hate', 'love', 'indifferent', 'super love', 'intrigued',\n",
       "       'worried', 'like', 'heart', 'want', 'adore'], dtype=object)"
      ]
     },
     "execution_count": 15,
     "metadata": {},
     "output_type": "execute_result"
    }
   ],
   "source": [
    "ds1_copy[\"Reaction Type\"].unique()"
   ]
  },
  {
   "cell_type": "code",
   "execution_count": 26,
   "id": "c8c6ef95-f7fe-4b93-bb22-0a767235b3bd",
   "metadata": {},
   "outputs": [
    {
     "data": {
      "text/plain": [
       "array(['negative', 'positive', 'neutral'], dtype=object)"
      ]
     },
     "execution_count": 26,
     "metadata": {},
     "output_type": "execute_result"
    }
   ],
   "source": [
    "ds1_copy[\"Sentimant\"].unique()"
   ]
  },
  {
   "cell_type": "code",
   "execution_count": 21,
   "id": "0dfa4731-5d06-438d-8f01-c407d3e58019",
   "metadata": {},
   "outputs": [
    {
     "data": {
      "text/plain": [
       "array([ 0, 10, 15, 30, 35, 70,  5, 65, 20, 75, 45, 12, 50, 60, 72],\n",
       "      dtype=int64)"
      ]
     },
     "execution_count": 21,
     "metadata": {},
     "output_type": "execute_result"
    }
   ],
   "source": [
    "ds1_copy[\"Score\"].unique()"
   ]
  },
  {
   "cell_type": "code",
   "execution_count": 33,
   "id": "74849115-f80f-4ccf-b533-c0279a8a3cf7",
   "metadata": {},
   "outputs": [
    {
     "data": {
      "text/plain": [
       "Reaction Type\n",
       "heart          1622\n",
       "scared         1572\n",
       "peeking        1559\n",
       "hate           1552\n",
       "interested     1549\n",
       "dislike        1548\n",
       "adore          1548\n",
       "want           1539\n",
       "love           1534\n",
       "disgust        1526\n",
       "like           1520\n",
       "super love     1519\n",
       "indifferent    1512\n",
       "cherish        1501\n",
       "worried        1497\n",
       "intrigued      1475\n",
       "Name: count, dtype: int64"
      ]
     },
     "execution_count": 33,
     "metadata": {},
     "output_type": "execute_result"
    }
   ],
   "source": [
    "#most reactions used by user\n",
    "\n",
    "ds1_copy[\"Reaction Type\"].value_counts().sort_values(ascending=False)"
   ]
  },
  {
   "cell_type": "code",
   "execution_count": null,
   "id": "0b04f992-2660-4517-bd31-ede680265aaa",
   "metadata": {},
   "outputs": [],
   "source": []
  },
  {
   "cell_type": "code",
   "execution_count": null,
   "id": "a1dd35f3-79aa-4b77-899b-da12967eb928",
   "metadata": {},
   "outputs": [],
   "source": []
  }
 ],
 "metadata": {
  "kernelspec": {
   "display_name": "Python 3 (ipykernel)",
   "language": "python",
   "name": "python3"
  },
  "language_info": {
   "codemirror_mode": {
    "name": "ipython",
    "version": 3
   },
   "file_extension": ".py",
   "mimetype": "text/x-python",
   "name": "python",
   "nbconvert_exporter": "python",
   "pygments_lexer": "ipython3",
   "version": "3.12.0"
  }
 },
 "nbformat": 4,
 "nbformat_minor": 5
}
